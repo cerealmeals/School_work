{
 "cells": [
  {
   "cell_type": "code",
   "execution_count": 2,
   "id": "0b460a68-ac8c-4001-a0d7-d5d6d4230eb3",
   "metadata": {},
   "outputs": [],
   "source": [
    "import numpy as np"
   ]
  },
  {
   "cell_type": "code",
   "execution_count": 5,
   "id": "d6c34a48-8fcd-473e-af03-f0afb1cecfb2",
   "metadata": {},
   "outputs": [],
   "source": [
    "data = np.load('/home/sam/Documents/353/ass1/e1/monthdata.npz')"
   ]
  },
  {
   "cell_type": "code",
   "execution_count": 9,
   "id": "2c4d8477-23b6-4a65-bcbc-7aa19d788cf0",
   "metadata": {},
   "outputs": [],
   "source": [
    "totals = data['totals']\n",
    "counts = data['counts']"
   ]
  },
  {
   "cell_type": "code",
   "execution_count": 15,
   "id": "c81debb7-43c7-4283-bc6a-ddfd0a76cb64",
   "metadata": {},
   "outputs": [
    {
     "data": {
      "text/plain": [
       "array([[30, 22, 30, 30, 21, 21, 20, 25, 20, 19, 17, 16],\n",
       "       [31, 29, 31, 30, 31, 30, 31, 30, 30, 30, 30, 30],\n",
       "       [31, 29, 31, 30, 30, 30, 31, 31, 30, 31, 30, 31],\n",
       "       [31, 29, 31, 30, 31, 30, 31, 31, 29, 30, 30, 31],\n",
       "       [31, 29, 31, 29, 31, 29, 30, 31, 30, 31, 30, 29],\n",
       "       [31, 29, 31, 30, 31, 30, 28, 31, 30, 30, 29, 31],\n",
       "       [31, 28, 31, 30, 31, 30, 31, 31, 30, 31, 29, 31],\n",
       "       [30, 28, 31, 30, 30, 29, 30, 31, 30, 31, 30, 30],\n",
       "       [31, 28, 31, 30, 31, 30, 31, 31, 30, 30, 30, 30]])"
      ]
     },
     "execution_count": 15,
     "metadata": {},
     "output_type": "execute_result"
    }
   ],
   "source": [
    "counts"
   ]
  }
 ],
 "metadata": {
  "kernelspec": {
   "display_name": "Python 3 (ipykernel)",
   "language": "python",
   "name": "python3"
  },
  "language_info": {
   "codemirror_mode": {
    "name": "ipython",
    "version": 3
   },
   "file_extension": ".py",
   "mimetype": "text/x-python",
   "name": "python",
   "nbconvert_exporter": "python",
   "pygments_lexer": "ipython3",
   "version": "3.10.12"
  }
 },
 "nbformat": 4,
 "nbformat_minor": 5
}
