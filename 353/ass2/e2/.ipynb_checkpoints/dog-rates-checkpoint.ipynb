{
 "cells": [
  {
   "cell_type": "code",
   "execution_count": 1,
   "id": "227a5724-029a-45fd-abb8-a7b7aa30f168",
   "metadata": {},
   "outputs": [],
   "source": [
    "import pandas as pd\n",
    "import numpy as np\n",
    "import matplotlib.pyplot as plt\n",
    "import re\n",
    "from datetime import datetime\n",
    "from scipy import stats"
   ]
  },
  {
   "cell_type": "code",
   "execution_count": 2,
   "id": "397049c7-1072-44ad-956a-46a6a04fa1ed",
   "metadata": {},
   "outputs": [],
   "source": [
    "def find_rating(x):\n",
    "    m = re.search(r'(\\d+(\\.\\d+)?)/10', x)\n",
    "    # print(type(m))\n",
    "    if isinstance(m, re.Match):\n",
    "        m = m.group(0).rstrip('/10')\n",
    "    return m"
   ]
  },
  {
   "cell_type": "code",
   "execution_count": 3,
   "id": "ae3a3d1e-a8cf-4883-9387-66add9762d62",
   "metadata": {},
   "outputs": [
    {
     "name": "stderr",
     "output_type": "stream",
     "text": [
      "/tmp/ipykernel_4833/1266898531.py:1: FutureWarning: The argument 'infer_datetime_format' is deprecated and will be removed in a future version. A strict version of it is now the default, see https://pandas.pydata.org/pdeps/0004-consistent-to-datetime-parsing.html. You can safely remove this argument.\n",
      "  tweets = pd.read_csv('dog_rates_tweets.csv', parse_dates=['created_at'], infer_datetime_format=True)\n"
     ]
    }
   ],
   "source": [
    "tweets = pd.read_csv('dog_rates_tweets.csv', parse_dates=['created_at'], infer_datetime_format=True)"
   ]
  },
  {
   "cell_type": "code",
   "execution_count": 4,
   "id": "d651c7f2-d348-4a96-b1f0-0612fddc25f3",
   "metadata": {},
   "outputs": [],
   "source": [
    "tweets['ratings'] = tweets['text'].apply(lambda x :find_rating(x))"
   ]
  },
  {
   "cell_type": "code",
   "execution_count": 5,
   "id": "5a34b744-dfcf-4f20-98ca-1721ea41050d",
   "metadata": {},
   "outputs": [],
   "source": [
    "tweets = tweets[(tweets['ratings'].notna())]"
   ]
  },
  {
   "cell_type": "code",
   "execution_count": 6,
   "id": "307d2089-b60f-400d-91e4-20d0f32337cc",
   "metadata": {},
   "outputs": [],
   "source": [
    "tweets = tweets[(tweets['ratings'] != '')]"
   ]
  },
  {
   "cell_type": "code",
   "execution_count": 7,
   "id": "04043320-deb4-4de4-a7a7-8159c3e9d889",
   "metadata": {},
   "outputs": [],
   "source": [
    "tweets['ratings'] = tweets['ratings'].apply(lambda x :float(x))"
   ]
  },
  {
   "cell_type": "code",
   "execution_count": 8,
   "id": "e53a3960-4bdc-4a35-9e84-da16c1884dcf",
   "metadata": {},
   "outputs": [],
   "source": [
    "tweets = tweets[(tweets['ratings'] <= 25)]"
   ]
  },
  {
   "cell_type": "code",
   "execution_count": 9,
   "id": "dc827c22-ed23-4e1c-99f3-12fadbb85e3c",
   "metadata": {},
   "outputs": [],
   "source": [
    "tweets['timestamp'] = tweets['created_at'].apply(lambda x: x.timestamp())"
   ]
  },
  {
   "cell_type": "code",
   "execution_count": 10,
   "id": "e4598244-9577-4c26-8085-c916e8833a8a",
   "metadata": {},
   "outputs": [],
   "source": [
    "fit = stats.linregress(tweets['timestamp'].values, tweets['ratings'].values)"
   ]
  },
  {
   "cell_type": "code",
   "execution_count": 11,
   "id": "aff2315f-a96d-4286-828a-728cce037f4e",
   "metadata": {},
   "outputs": [],
   "source": [
    "tweets['predictions'] = tweets['timestamp'].apply(lambda x: x*fit.slope + fit.intercept)"
   ]
  },
  {
   "cell_type": "code",
   "execution_count": 12,
   "id": "755da2ad-07b1-4aed-962a-d953dcf1127f",
   "metadata": {},
   "outputs": [
    {
     "data": {
      "text/html": [
       "<div>\n",
       "<style scoped>\n",
       "    .dataframe tbody tr th:only-of-type {\n",
       "        vertical-align: middle;\n",
       "    }\n",
       "\n",
       "    .dataframe tbody tr th {\n",
       "        vertical-align: top;\n",
       "    }\n",
       "\n",
       "    .dataframe thead th {\n",
       "        text-align: right;\n",
       "    }\n",
       "</style>\n",
       "<table border=\"1\" class=\"dataframe\">\n",
       "  <thead>\n",
       "    <tr style=\"text-align: right;\">\n",
       "      <th></th>\n",
       "      <th>id</th>\n",
       "      <th>created_at</th>\n",
       "      <th>text</th>\n",
       "      <th>ratings</th>\n",
       "      <th>timestamp</th>\n",
       "      <th>predictions</th>\n",
       "    </tr>\n",
       "  </thead>\n",
       "  <tbody>\n",
       "    <tr>\n",
       "      <th>2</th>\n",
       "      <td>994363623421153280</td>\n",
       "      <td>2018-05-09 23:48:56</td>\n",
       "      <td>This is Louie. He has misplaced his Cheerio. W...</td>\n",
       "      <td>14.0</td>\n",
       "      <td>1.525910e+09</td>\n",
       "      <td>13.212266</td>\n",
       "    </tr>\n",
       "    <tr>\n",
       "      <th>7</th>\n",
       "      <td>993889039714578432</td>\n",
       "      <td>2018-05-08 16:23:07</td>\n",
       "      <td>This is Manny. He hasn’t seen your croissant. ...</td>\n",
       "      <td>13.0</td>\n",
       "      <td>1.525797e+09</td>\n",
       "      <td>13.209150</td>\n",
       "    </tr>\n",
       "    <tr>\n",
       "      <th>8</th>\n",
       "      <td>993629544463642624</td>\n",
       "      <td>2018-05-07 23:11:58</td>\n",
       "      <td>This is Libby. She leap. 14/10\\n(IG: libbythef...</td>\n",
       "      <td>14.0</td>\n",
       "      <td>1.525735e+09</td>\n",
       "      <td>13.207446</td>\n",
       "    </tr>\n",
       "    <tr>\n",
       "      <th>24</th>\n",
       "      <td>992198572664860672</td>\n",
       "      <td>2018-05-04 00:25:48</td>\n",
       "      <td>This is Rosie. She thought Coachella was this ...</td>\n",
       "      <td>13.0</td>\n",
       "      <td>1.525394e+09</td>\n",
       "      <td>13.198050</td>\n",
       "    </tr>\n",
       "    <tr>\n",
       "      <th>30</th>\n",
       "      <td>991744041351090177</td>\n",
       "      <td>2018-05-02 18:19:39</td>\n",
       "      <td>This is Riley. He’ll be your chauffeur this ev...</td>\n",
       "      <td>13.0</td>\n",
       "      <td>1.525285e+09</td>\n",
       "      <td>13.195065</td>\n",
       "    </tr>\n",
       "    <tr>\n",
       "      <th>...</th>\n",
       "      <td>...</td>\n",
       "      <td>...</td>\n",
       "      <td>...</td>\n",
       "      <td>...</td>\n",
       "      <td>...</td>\n",
       "      <td>...</td>\n",
       "    </tr>\n",
       "    <tr>\n",
       "      <th>7363</th>\n",
       "      <td>1032725635888803841</td>\n",
       "      <td>2018-08-23 20:25:53</td>\n",
       "      <td>This is Noodles. He had brain surgery earlier ...</td>\n",
       "      <td>14.0</td>\n",
       "      <td>1.535056e+09</td>\n",
       "      <td>13.464164</td>\n",
       "    </tr>\n",
       "    <tr>\n",
       "      <th>7369</th>\n",
       "      <td>1032310288652152832</td>\n",
       "      <td>2018-08-22 16:55:26</td>\n",
       "      <td>This is Pingo and Nina. They are believed to b...</td>\n",
       "      <td>14.0</td>\n",
       "      <td>1.534957e+09</td>\n",
       "      <td>13.461437</td>\n",
       "    </tr>\n",
       "    <tr>\n",
       "      <th>7381</th>\n",
       "      <td>1031696422813544448</td>\n",
       "      <td>2018-08-21 00:16:09</td>\n",
       "      <td>This is Nikita. She got caught in some wild fl...</td>\n",
       "      <td>13.0</td>\n",
       "      <td>1.534811e+09</td>\n",
       "      <td>13.457406</td>\n",
       "    </tr>\n",
       "    <tr>\n",
       "      <th>7431</th>\n",
       "      <td>1029767403545288706</td>\n",
       "      <td>2018-08-15 16:30:55</td>\n",
       "      <td>This is Winston. He came home for the first ti...</td>\n",
       "      <td>14.0</td>\n",
       "      <td>1.534351e+09</td>\n",
       "      <td>13.444739</td>\n",
       "    </tr>\n",
       "    <tr>\n",
       "      <th>7433</th>\n",
       "      <td>1029550934408486912</td>\n",
       "      <td>2018-08-15 02:10:45</td>\n",
       "      <td>RT @dog_rates: Here's a doggo realizing you ca...</td>\n",
       "      <td>13.0</td>\n",
       "      <td>1.534299e+09</td>\n",
       "      <td>13.443318</td>\n",
       "    </tr>\n",
       "  </tbody>\n",
       "</table>\n",
       "<p>1182 rows × 6 columns</p>\n",
       "</div>"
      ],
      "text/plain": [
       "                       id          created_at  \\\n",
       "2      994363623421153280 2018-05-09 23:48:56   \n",
       "7      993889039714578432 2018-05-08 16:23:07   \n",
       "8      993629544463642624 2018-05-07 23:11:58   \n",
       "24     992198572664860672 2018-05-04 00:25:48   \n",
       "30     991744041351090177 2018-05-02 18:19:39   \n",
       "...                   ...                 ...   \n",
       "7363  1032725635888803841 2018-08-23 20:25:53   \n",
       "7369  1032310288652152832 2018-08-22 16:55:26   \n",
       "7381  1031696422813544448 2018-08-21 00:16:09   \n",
       "7431  1029767403545288706 2018-08-15 16:30:55   \n",
       "7433  1029550934408486912 2018-08-15 02:10:45   \n",
       "\n",
       "                                                   text  ratings  \\\n",
       "2     This is Louie. He has misplaced his Cheerio. W...     14.0   \n",
       "7     This is Manny. He hasn’t seen your croissant. ...     13.0   \n",
       "8     This is Libby. She leap. 14/10\\n(IG: libbythef...     14.0   \n",
       "24    This is Rosie. She thought Coachella was this ...     13.0   \n",
       "30    This is Riley. He’ll be your chauffeur this ev...     13.0   \n",
       "...                                                 ...      ...   \n",
       "7363  This is Noodles. He had brain surgery earlier ...     14.0   \n",
       "7369  This is Pingo and Nina. They are believed to b...     14.0   \n",
       "7381  This is Nikita. She got caught in some wild fl...     13.0   \n",
       "7431  This is Winston. He came home for the first ti...     14.0   \n",
       "7433  RT @dog_rates: Here's a doggo realizing you ca...     13.0   \n",
       "\n",
       "         timestamp  predictions  \n",
       "2     1.525910e+09    13.212266  \n",
       "7     1.525797e+09    13.209150  \n",
       "8     1.525735e+09    13.207446  \n",
       "24    1.525394e+09    13.198050  \n",
       "30    1.525285e+09    13.195065  \n",
       "...            ...          ...  \n",
       "7363  1.535056e+09    13.464164  \n",
       "7369  1.534957e+09    13.461437  \n",
       "7381  1.534811e+09    13.457406  \n",
       "7431  1.534351e+09    13.444739  \n",
       "7433  1.534299e+09    13.443318  \n",
       "\n",
       "[1182 rows x 6 columns]"
      ]
     },
     "execution_count": 12,
     "metadata": {},
     "output_type": "execute_result"
    }
   ],
   "source": [
    "tweets"
   ]
  },
  {
   "cell_type": "code",
   "execution_count": 13,
   "id": "a3d04ed8-4466-4f91-b77b-68aa300f9084",
   "metadata": {},
   "outputs": [
    {
     "data": {
      "text/plain": [
       "<function matplotlib.pyplot.show(close=None, block=None)>"
      ]
     },
     "execution_count": 13,
     "metadata": {},
     "output_type": "execute_result"
    },
    {
     "data": {
      "image/png": "[encoded data removed]",
      "text/plain": [
       "<Figure size 640x480 with 1 Axes>"
      ]
     },
     "metadata": {},
     "output_type": "display_data"
    }
   ],
   "source": [
    "plt.plot(tweets['created_at'].values, tweets['ratings'].values, 'b.', alpha= 0.5)\n",
    "plt.plot(tweets['created_at'].values, tweets['predictions'].values, 'r-', linewidth=3)\n",
    "plt.xticks(rotation=25)\n",
    "plt.show"
   ]
  }
 ],
 "metadata": {
  "kernelspec": {
   "display_name": "Python 3 (ipykernel)",
   "language": "python",
   "name": "python3"
  },
  "language_info": {
   "codemirror_mode": {
    "name": "ipython",
    "version": 3
   },
   "file_extension": ".py",
   "mimetype": "text/x-python",
   "name": "python",
   "nbconvert_exporter": "python",
   "pygments_lexer": "ipython3",
   "version": "3.10.12"
  }
 },
 "nbformat": 4,
 "nbformat_minor": 5
}
